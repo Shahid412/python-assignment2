{
 "cells": [
  {
   "cell_type": "code",
   "execution_count": 1,
   "metadata": {},
   "outputs": [],
   "source": [
    "# V - Program for calculating admission cost "
   ]
  },
  {
   "cell_type": "code",
   "execution_count": 2,
   "metadata": {},
   "outputs": [
    {
     "name": "stdout",
     "output_type": "stream",
     "text": [
      "Enter age : 12\n",
      "Age is  12\n",
      "Enter age : 24\n",
      "Age is  24\n",
      "Enter age : 60\n",
      "Age is  60\n",
      "Enter age : 3\n",
      "Age is  3\n",
      "Enter age : 46\n",
      "Age is  46\n",
      "Enter age : 10\n",
      "Age is  10\n",
      "Enter age : \n",
      "Your total admission cost for the whole group is : £ 292997.58\n"
     ]
    }
   ],
   "source": [
    "ages=[]\n",
    "while True:\n",
    "    x = input(\"Enter age : \")\n",
    "    if x==\"\":break\n",
    "    print(\"Age is \", x)\n",
    "    ages.append(x)\n",
    "\n",
    "cost=0\n",
    "\n",
    "for i in range(len(ages)): \n",
    "    if int(ages[i]) < 4:\n",
    "        charge=0\n",
    "    elif int(ages[i])>3 and int(ages[i])<12:\n",
    "        charge=int(ages[i])*899.90\n",
    "    elif int(ages[i])>69:\n",
    "        charge=int(ages[i])*1490.49\n",
    "    else:\n",
    "        charge=int(ages[i]) *1999.99\n",
    "    cost+=charge\n",
    "    \n",
    "print(\"Your total admission cost for the whole group is : £\", round(cost,2))"
   ]
  },
  {
   "cell_type": "code",
   "execution_count": null,
   "metadata": {},
   "outputs": [],
   "source": []
  }
 ],
 "metadata": {
  "kernelspec": {
   "display_name": "Python 3",
   "language": "python",
   "name": "python3"
  },
  "language_info": {
   "codemirror_mode": {
    "name": "ipython",
    "version": 3
   },
   "file_extension": ".py",
   "mimetype": "text/x-python",
   "name": "python",
   "nbconvert_exporter": "python",
   "pygments_lexer": "ipython3",
   "version": "3.7.4"
  }
 },
 "nbformat": 4,
 "nbformat_minor": 2
}
