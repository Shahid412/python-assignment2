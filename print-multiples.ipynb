{
 "cells": [
  {
   "cell_type": "code",
   "execution_count": 1,
   "metadata": {},
   "outputs": [],
   "source": [
    "# I - Program to print multiples of 7 below x"
   ]
  },
  {
   "cell_type": "code",
   "execution_count": 2,
   "metadata": {},
   "outputs": [
    {
     "name": "stdout",
     "output_type": "stream",
     "text": [
      "Enter number below 100 : 99\n",
      "Multiples of 7 are:  7\n",
      "Multiples of 7 are:  14\n",
      "Multiples of 7 are:  21\n",
      "Multiples of 7 are:  28\n",
      "Multiples of 7 are:  35\n",
      "Multiples of 7 are:  42\n",
      "Multiples of 7 are:  49\n",
      "Multiples of 7 are:  56\n",
      "Multiples of 7 are:  63\n",
      "Multiples of 7 are:  70\n",
      "Multiples of 7 are:  77\n",
      "Multiples of 7 are:  84\n",
      "Multiples of 7 are:  91\n",
      "Multiples of 7 are:  98\n"
     ]
    }
   ],
   "source": [
    "n=int(input(\"Enter number below 100 : \"))\n",
    "for i in range(1,n):\n",
    "    m=i*7\n",
    "    if (m>n):\n",
    "        break\n",
    "    print(\"Multiples of 7 are: \",m)\n"
   ]
  },
  {
   "cell_type": "code",
   "execution_count": null,
   "metadata": {},
   "outputs": [],
   "source": []
  }
 ],
 "metadata": {
  "kernelspec": {
   "display_name": "Python 3",
   "language": "python",
   "name": "python3"
  },
  "language_info": {
   "codemirror_mode": {
    "name": "ipython",
    "version": 3
   },
   "file_extension": ".py",
   "mimetype": "text/x-python",
   "name": "python",
   "nbconvert_exporter": "python",
   "pygments_lexer": "ipython3",
   "version": "3.7.4"
  }
 },
 "nbformat": 4,
 "nbformat_minor": 2
}
