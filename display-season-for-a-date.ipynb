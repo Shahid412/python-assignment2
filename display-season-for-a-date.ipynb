{
 "cells": [
  {
   "cell_type": "code",
   "execution_count": 1,
   "metadata": {},
   "outputs": [],
   "source": [
    "# II - Program to display UK season for a given day and month"
   ]
  },
  {
   "cell_type": "code",
   "execution_count": 2,
   "metadata": {},
   "outputs": [
    {
     "name": "stdout",
     "output_type": "stream",
     "text": [
      "Input month's name (e.g. January, February etc.): April\n",
      "Input the day (in number): 12\n",
      "Season is Spring\n"
     ]
    }
   ],
   "source": [
    "month = input(\"Input month's name (e.g. January, February etc.): \")\n",
    "day = int(input(\"Input the day (in number): \"))\n",
    "\n",
    "if month in ('January', 'February', 'March'):\n",
    "    season = 'Winter'\n",
    "elif month in ('April', 'May', 'June'):\n",
    "    season = 'Spring'\n",
    "elif month in ('July', 'August', 'September'):\n",
    "    season = 'Summer'\n",
    "else:\n",
    "    season = 'Fall'\n",
    "\n",
    "if (month == 'March') and (day > 19):\n",
    "    season = 'Spring'\n",
    "elif (month == 'June') and (day > 20):\n",
    "    season = 'Summer'\n",
    "elif (month == 'September') and (day > 21):\n",
    "    season = 'Fall'\n",
    "elif (month == 'December') and (day > 20):\n",
    "    season = 'Winter'\n",
    "\n",
    "print(\"Season is\",season)"
   ]
  },
  {
   "cell_type": "code",
   "execution_count": null,
   "metadata": {},
   "outputs": [],
   "source": []
  }
 ],
 "metadata": {
  "kernelspec": {
   "display_name": "Python 3",
   "language": "python",
   "name": "python3"
  },
  "language_info": {
   "codemirror_mode": {
    "name": "ipython",
    "version": 3
   },
   "file_extension": ".py",
   "mimetype": "text/x-python",
   "name": "python",
   "nbconvert_exporter": "python",
   "pygments_lexer": "ipython3",
   "version": "3.7.4"
  }
 },
 "nbformat": 4,
 "nbformat_minor": 2
}
